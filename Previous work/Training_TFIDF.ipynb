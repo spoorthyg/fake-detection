{
  "nbformat": 4,
  "nbformat_minor": 0,
  "metadata": {
    "colab": {
      "provenance": []
    },
    "kernelspec": {
      "name": "python3",
      "display_name": "Python 3"
    },
    "language_info": {
      "name": "python"
    }
  },
  "cells": [
    {
      "cell_type": "code",
      "execution_count": 13,
      "metadata": {
        "id": "0qNue7y8wd_R"
      },
      "outputs": [],
      "source": [
        "import pandas as pd\n",
        "import numpy as np\n",
        "import logging\n",
        "import re\n",
        "import pickle\n",
        "\n",
        "from sklearn.preprocessing import LabelEncoder\n",
        "from sklearn.feature_extraction.text import CountVectorizer,TfidfVectorizer\n",
        "from sklearn.model_selection import train_test_split\n",
        "from sklearn.metrics import classification_report, confusion_matrix, f1_score, accuracy_score\n",
        "from sklearn.linear_model import  LogisticRegression\n",
        "from xgboost import XGBClassifier\n",
        "from sklearn import svm\n",
        "from sklearn.naive_bayes import BernoulliNB\n",
        "from cleaning import process_text\n",
        "\n",
        "logging.basicConfig(format='%(asctime)s : %(levelname)s : %(message)s', level=logging.INFO)\n",
        "\n"
      ]
    },
    {
      "cell_type": "code",
      "source": [
        "# Extracting Features for all models\n",
        "def extract_features(field,training_data,testing_data,type):\n",
        "    \"\"\"\n",
        "    Extract features using different methods\n",
        "    Args: \n",
        "        field (string): statement column    \n",
        "        training_data (pandas.core.frame.DataFrame): training data\n",
        "        testing_data (pandas.core.frame.DataFrame): test data\n",
        "        type (string): feature type\n",
        "    Returns:\n",
        "        train & test features and feature transformer\n",
        "    \"\"\"\n",
        "    logging.info(\"Extracting features and creating vocabulary...\")\n",
        "    if \"tfidf\" in type:\n",
        "    \n",
        "        # TF-IDF BASED FEATURE REPRESENTATION\n",
        "        tfidf_vectorizer=TfidfVectorizer(use_idf=True, max_df=0.95, analyzer=process_text)\n",
        "        tfidf_vectorizer.fit_transform(training_data.values)\n",
        "        \n",
        "        train_feature_set=tfidf_vectorizer.transform(training_data.values)\n",
        "        test_feature_set=tfidf_vectorizer.transform(testing_data.values)\n",
        "        \n",
        "        return train_feature_set,test_feature_set,tfidf_vectorizer\n"
      ],
      "metadata": {
        "id": "QapTDDLgwyoc"
      },
      "execution_count": 14,
      "outputs": []
    },
    {
      "cell_type": "code",
      "source": [
        "# Training model for all methods\n",
        "def train_model_LogR_clf(classifier, train_val, field,feature_rep,name):\n",
        "    \"\"\"\n",
        "    Training the classifier for the provided features.\n",
        "    Args: \n",
        "        classifier (sklearn.linear_model): statement column  \n",
        "        train_val (pandas.core.frame.DataFrame): training data\n",
        "        field (string): test data\n",
        "        feature_rep (string): feature type\n",
        "    Returns:\n",
        "        model, feature transformer and f1-score\n",
        "    \"\"\"\n",
        "    logging.info(\"Starting model training...\")   \n",
        "    # GET A TRAIN TEST SPLIT (set seed for consistent results)\n",
        "    training_data, testing_data = train_test_split(train_val,random_state = 2000,)\n",
        "    # features\n",
        "    X_train=training_data['statement']\n",
        "    X_test=testing_data['statement']\n",
        "    # GET LABELS\n",
        "    Y_train=training_data['label'].values\n",
        "    Y_test=testing_data['label'].values\n",
        "    # GET FEATURES\n",
        "    train_features,test_features,feature_transformer=extract_features(field,X_train,X_test,type=feature_rep)\n",
        "    logging.info(\"Training a Classification Model...\")\n",
        "    model=classifier.fit(train_features,Y_train)\n",
        "    # GET PREDICTIONS\n",
        "    predictions = model.predict(test_features)\n",
        "    # GET EVALUATION NUMBERS ON TEST SET -- HOW DID WE DO?\n",
        "\n",
        "    logging.info(\"Starting evaluation...\")\n",
        "    accuracy_LogR_clf = accuracy_score(Y_test,predictions)\n",
        "    print(\"The acurracy score of method \",name,\"with TFIDF BASED FEATURE REPRESENTATION is:\",accuracy_LogR_clf)\n",
        "    score_LogR_clf = f1_score(Y_test,predictions)\n",
        "    print(\"The F1 score of method \",name,\"with TFIDF BASED FEATURE REPRESENTATION is:\",score_LogR_clf )\n",
        "    print(classification_report(Y_test,predictions))\n",
        "    print(\"Confusion Matrix of\",name,\"with TFIDF BASED FEATURE REPRESENTATION is:\")\n",
        "    print(confusion_matrix(Y_test,predictions))\n",
        "    logging.info(\"Done training and evaluation.\")\n",
        "    \n",
        "    return model,feature_transformer,score_LogR_clf,accuracy_LogR_clf\n"
      ],
      "metadata": {
        "id": "1RAk00dmGWQp"
      },
      "execution_count": 15,
      "outputs": []
    },
    {
      "cell_type": "code",
      "source": [
        "# Training model for all methods\n",
        "def train_model_XGBoost_clf(classifier, train_val, field,feature_rep,name):\n",
        "    \"\"\"\n",
        "    Training the classifier for the provided features.\n",
        "    Args: \n",
        "        classifier (sklearn.linear_model): statement column  \n",
        "        train_val (pandas.core.frame.DataFrame): training data\n",
        "        field (string): test data\n",
        "        feature_rep (string): feature type\n",
        "    Returns:\n",
        "        model, feature transformer and f1-score\n",
        "    \"\"\"\n",
        "    logging.info(\"Starting model training...\")   \n",
        "    # GET A TRAIN TEST SPLIT (set seed for consistent results)\n",
        "    training_data, testing_data = train_test_split(train_val,random_state = 2000,)\n",
        "    # features\n",
        "    X_train=training_data['statement']\n",
        "    X_test=testing_data['statement']\n",
        "    # GET LABELS\n",
        "    Y_train=training_data['label'].values\n",
        "    Y_test=testing_data['label'].values\n",
        "    # GET FEATURES\n",
        "    train_features,test_features,feature_transformer=extract_features(field,X_train,X_test,type=feature_rep)\n",
        "    logging.info(\"Training a Classification Model...\")\n",
        "    model=classifier.fit(train_features,Y_train)\n",
        "    # GET PREDICTIONS\n",
        "    predictions = model.predict(test_features)\n",
        "    # GET EVALUATION NUMBERS ON TEST SET -- HOW DID WE DO?\n",
        "    logging.info(\"Starting evaluation...\")\n",
        "    accuracy_XGBoost_clf = accuracy_score(Y_test,predictions)\n",
        "    print(\"The acurracy score of method \",name,\"with TFIDF BASED FEATURE REPRESENTATION is:\",accuracy_XGBoost_clf)\n",
        "    score_XGBoost_clf = f1_score(Y_test,predictions)\n",
        "    print(\"The F1 score of method \",name,\"with TFIDF BASED FEATURE REPRESENTATION is:\",score_XGBoost_clf)\n",
        "    print(classification_report(Y_test,predictions))\n",
        "    print(\"Confusion Matrix of\",name,\"with TFIDF BASED FEATURE REPRESENTATION is:\")\n",
        "    print(confusion_matrix(Y_test,predictions))\n",
        "    logging.info(\"Done training and evaluation.\")\n",
        "    \n",
        "    return model,feature_transformer,score_XGBoost_clf,accuracy_XGBoost_clf\n"
      ],
      "metadata": {
        "id": "lSnqSTNTGWZG"
      },
      "execution_count": 16,
      "outputs": []
    },
    {
      "cell_type": "code",
      "source": [
        "# Training model for all methods\n",
        "def train_model_svm(classifier, train_val, field,feature_rep,name):\n",
        "    \"\"\"\n",
        "    Training the classifier for the provided features.\n",
        "    Args: \n",
        "        classifier (sklearn.linear_model): statement column  \n",
        "        train_val (pandas.core.frame.DataFrame): training data\n",
        "        field (string): test data\n",
        "        feature_rep (string): feature type\n",
        "    Returns:\n",
        "        model, feature transformer and f1-score\n",
        "    \"\"\"\n",
        "    logging.info(\"Starting model training...\")   \n",
        "    # GET A TRAIN TEST SPLIT (set seed for consistent results)\n",
        "    training_data, testing_data = train_test_split(train_val,random_state = 2000,)\n",
        "    # features\n",
        "    X_train=training_data['statement']\n",
        "    X_test=testing_data['statement']\n",
        "    # GET LABELS\n",
        "    Y_train=training_data['label'].values\n",
        "    Y_test=testing_data['label'].values\n",
        "    # GET FEATURES\n",
        "    train_features,test_features,feature_transformer=extract_features(field,X_train,X_test,type=feature_rep)\n",
        "    logging.info(\"Training a Classification Model...\")\n",
        "    model=classifier.fit(train_features,Y_train)\n",
        "    # GET PREDICTIONS\n",
        "    predictions = model.predict(test_features)\n",
        "    # GET EVALUATION NUMBERS ON TEST SET -- HOW DID WE DO?\n",
        "    logging.info(\"Starting evaluation...\")\n",
        "    accuracy_svm = accuracy_score(Y_test,predictions)\n",
        "    print(\"The acurracy score of method \",name,\"with TFIDF BASED FEATURE REPRESENTATION is:\",accuracy_svm)\n",
        "    score_svm = f1_score(Y_test,predictions)\n",
        "    print(\"The F1 score of method \",name,\"with TFIDF BASED FEATURE REPRESENTATION is:\",score_svm)\n",
        "    print(classification_report(Y_test,predictions))\n",
        "    print(\"Confusion Matrix of\",name,\"with TFIDF BASED FEATURE REPRESENTATION is:\")\n",
        "    print(confusion_matrix(Y_test,predictions))\n",
        "    logging.info(\"Done training and evaluation.\")\n",
        "    \n",
        "    return model,feature_transformer,score_svm,accuracy_svm\n"
      ],
      "metadata": {
        "id": "9FsvTDSUGWyS"
      },
      "execution_count": 17,
      "outputs": []
    },
    {
      "cell_type": "code",
      "source": [
        "import nltk\n",
        "nltk.download('stopwords')\n",
        "  \n"
      ],
      "metadata": {
        "colab": {
          "base_uri": "https://localhost:8080/"
        },
        "id": "mKn788NjyFQh",
        "outputId": "fd8f3764-fb27-44b5-a447-29d585e2af81"
      },
      "execution_count": 18,
      "outputs": [
        {
          "output_type": "stream",
          "name": "stderr",
          "text": [
            "[nltk_data] Downloading package stopwords to /root/nltk_data...\n",
            "[nltk_data]   Package stopwords is already up-to-date!\n"
          ]
        },
        {
          "output_type": "execute_result",
          "data": {
            "text/plain": [
              "True"
            ]
          },
          "metadata": {},
          "execution_count": 18
        }
      ]
    },
    {
      "cell_type": "code",
      "source": [
        " #Merging the training and validation data together to train the model\n",
        "labelEncoder = LabelEncoder()\n",
        "frames = [train_news, val_news]\n",
        "train_val = pd.concat(frames)\n",
        "train_val['label'].value_counts()\n",
        "train_val['label'] = labelEncoder.fit_transform(train_val['label'])\n",
        "\n",
        "     #Logistic Regression training model\n",
        "field='statement'\n",
        "LogR_clf = LogisticRegression(verbose=1, solver='liblinear',random_state=0, C=5, penalty='l2',max_iter=1000)\n",
        "lr_model,transform,score_LogR_clf,accuracy_LogR_clf = train_model_LogR_clf(LogR_clf,train_val,field=\"statement\",feature_rep='tfidf',name='LOGICAL REGRESSION')\n",
        "     \n",
        "    \n",
        "    "
      ],
      "metadata": {
        "colab": {
          "base_uri": "https://localhost:8080/"
        },
        "id": "a9ZAZ_97G6Xm",
        "outputId": "60f99bba-51fe-4e3f-df97-73d515eeb064"
      },
      "execution_count": 19,
      "outputs": [
        {
          "output_type": "stream",
          "name": "stdout",
          "text": [
            "[LibLinear]The acurracy score of method  LOGICAL REGRESSION with TFIDF BASED FEATURE REPRESENTATION is: 0.5927083333333333\n",
            "The F1 score of method  LOGICAL REGRESSION with TFIDF BASED FEATURE REPRESENTATION is: 0.6491175590786719\n",
            "              precision    recall  f1-score   support\n",
            "\n",
            "           0       0.53      0.50      0.51      1248\n",
            "           1       0.63      0.66      0.65      1632\n",
            "\n",
            "    accuracy                           0.59      2880\n",
            "   macro avg       0.58      0.58      0.58      2880\n",
            "weighted avg       0.59      0.59      0.59      2880\n",
            "\n",
            "Confusion Matrix of LOGICAL REGRESSION with TFIDF BASED FEATURE REPRESENTATION is:\n",
            "[[ 622  626]\n",
            " [ 547 1085]]\n"
          ]
        }
      ]
    },
    {
      "cell_type": "code",
      "source": [
        " #Merging the training and validation data together to train the model\n",
        "labelEncoder = LabelEncoder()\n",
        "frames = [train_news, val_news]\n",
        "train_val = pd.concat(frames)\n",
        "train_val['label'].value_counts()\n",
        "train_val['label'] = labelEncoder.fit_transform(train_val['label'])\n",
        "\n",
        "# XGBoost training model\n",
        "field='statement'\n",
        "XGBoost_clf = XGBClassifier(max_depth=15, learning_rate=0.3, n_estimators=150)\n",
        "XGBoost_model,transform,score_XGBoost_clf,accuracy_XGBoost_clf = train_model_XGBoost_clf(XGBoost_clf,train_val,field=\"statement\",feature_rep='tfidf',name='XGBoost')\n"
      ],
      "metadata": {
        "colab": {
          "base_uri": "https://localhost:8080/"
        },
        "id": "PIXYerVrG6jV",
        "outputId": "5290ed6d-3e32-49fa-e593-2104077aeaa4"
      },
      "execution_count": 20,
      "outputs": [
        {
          "output_type": "stream",
          "name": "stdout",
          "text": [
            "The acurracy score of method  XGBoost with TFIDF BASED FEATURE REPRESENTATION is: 0.5850694444444444\n",
            "The F1 score of method  XGBoost with TFIDF BASED FEATURE REPRESENTATION is: 0.6399517927086471\n",
            "              precision    recall  f1-score   support\n",
            "\n",
            "           0       0.52      0.50      0.51      1248\n",
            "           1       0.63      0.65      0.64      1632\n",
            "\n",
            "    accuracy                           0.59      2880\n",
            "   macro avg       0.58      0.57      0.58      2880\n",
            "weighted avg       0.58      0.59      0.58      2880\n",
            "\n",
            "Confusion Matrix of XGBoost with TFIDF BASED FEATURE REPRESENTATION is:\n",
            "[[ 623  625]\n",
            " [ 570 1062]]\n"
          ]
        }
      ]
    },
    {
      "cell_type": "code",
      "source": [
        " #Merging the training and validation data together to train the model\n",
        "labelEncoder = LabelEncoder()\n",
        "frames = [train_news, val_news]\n",
        "train_val = pd.concat(frames)\n",
        "train_val['label'].value_counts()\n",
        "train_val['label'] = labelEncoder.fit_transform(train_val['label'])\n",
        "\n",
        "#SVM training model\n",
        "field='statement'\n",
        "svm_clf = svm.SVC(kernel='linear')\n",
        "svm_model,transform,score_svm,accuracy_svm  = train_model_svm(svm_clf,train_val,field=\"statement\",feature_rep='tfidf',name='SVM')"
      ],
      "metadata": {
        "colab": {
          "base_uri": "https://localhost:8080/"
        },
        "id": "SkcufpQLG6p3",
        "outputId": "95164808-94d1-433c-d0b9-2bc9ce0e17ef"
      },
      "execution_count": 21,
      "outputs": [
        {
          "output_type": "stream",
          "name": "stdout",
          "text": [
            "The acurracy score of method  SVM with TFIDF BASED FEATURE REPRESENTATION is: 0.6052083333333333\n",
            "The F1 score of method  SVM with TFIDF BASED FEATURE REPRESENTATION is: 0.6697647400522799\n",
            "              precision    recall  f1-score   support\n",
            "\n",
            "           0       0.55      0.47      0.51      1248\n",
            "           1       0.64      0.71      0.67      1632\n",
            "\n",
            "    accuracy                           0.61      2880\n",
            "   macro avg       0.59      0.59      0.59      2880\n",
            "weighted avg       0.60      0.61      0.60      2880\n",
            "\n",
            "Confusion Matrix of SVM with TFIDF BASED FEATURE REPRESENTATION is:\n",
            "[[ 590  658]\n",
            " [ 479 1153]]\n"
          ]
        }
      ]
    },
    {
      "cell_type": "code",
      "source": [
        "import matplotlib.pyplot as plt\n",
        "\n",
        "# Example accuracy scores\n",
        "accuracy_scores = [accuracy_LogR_clf, accuracy_XGBoost_clf, accuracy_svm]\n",
        "\n",
        "# Model names\n",
        "model_names = ['Logistic Regression', 'XGBoost', 'SVM']\n",
        "\n",
        "colors = ['green', 'blue', 'red'] # list of colors for each bar\n",
        "\n",
        "# Set up the bar chart\n",
        "fig, ax = plt.subplots(figsize=(8, 6))\n",
        "# Add the bars to the plot\n",
        "for i in range(len(model_names)):\n",
        "    ax.bar(model_names[i], accuracy_scores[i], color=colors[i])\n",
        "\n",
        "    # Add the accuracy score as text to the bar\n",
        "    ax.text(model_names[i], accuracy_scores[i] + 0.01, round(accuracy_scores[i], 2), ha='center')\n",
        "\n",
        "# Add labels and titles\n",
        "ax.set_xlabel('Model')\n",
        "ax.set_ylabel('Accuracy Score')\n",
        "ax.set_title('Comparison of Model Accuracy Scores for TFIDF Feature Selection')\n",
        "\n",
        "# Display the chart\n",
        "plt.show()\n"
      ],
      "metadata": {
        "colab": {
          "base_uri": "https://localhost:8080/",
          "height": 564
        },
        "id": "tcd-3MtZH-U7",
        "outputId": "46bae517-f90b-4367-948d-0d2b98a646c7"
      },
      "execution_count": 22,
      "outputs": [
        {
          "output_type": "display_data",
          "data": {
            "text/plain": [
              "<Figure size 800x600 with 1 Axes>"
            ],
            "image/png": "[encoded data removed]"
          },
          "metadata": {}
        }
      ]
    },
    {
      "cell_type": "code",
      "source": [
        "import matplotlib.pyplot as plt\n",
        "\n",
        "# define model names and their respective F1 scores\n",
        "model_names = ['Logistic Regression', 'XGBoost', 'SVM']\n",
        "f1_scores = [score_LogR_clf, score_XGBoost_clf, score_svm]\n",
        "colors = ['green', 'blue', 'red'] # list of colors for each bar\n",
        "# Set up the bar chart\n",
        "fig, ax = plt.subplots(figsize=(8, 6))\n",
        "# Add the bars to the plot\n",
        "for i in range(len(model_names)):\n",
        "    ax.bar(model_names[i], f1_scores[i], color=colors[i])\n",
        "\n",
        "    # Add the accuracy score as text to the bar\n",
        "    ax.text(model_names[i], f1_scores[i] + 0.01, round(f1_scores[i], 2), ha='center')\n",
        "\n",
        "\n",
        "# add labels to the chart\n",
        "plt.title('Comparison of Model F1 Scores for TFIDF Feature Selection')\n",
        "plt.xlabel('Models')\n",
        "plt.ylabel('F1 Scores')\n",
        "\n",
        "# display the chart\n",
        "plt.show()\n"
      ],
      "metadata": {
        "colab": {
          "base_uri": "https://localhost:8080/",
          "height": 564
        },
        "id": "vq8btqJ9H-e_",
        "outputId": "91f15a95-ecad-4f3c-8590-c9df0cccfcf1"
      },
      "execution_count": 23,
      "outputs": [
        {
          "output_type": "display_data",
          "data": {
            "text/plain": [
              "<Figure size 800x600 with 1 Axes>"
            ],
            "image/png": "[encoded data removed]"
          },
          "metadata": {}
        }
      ]
    }
  ]
}
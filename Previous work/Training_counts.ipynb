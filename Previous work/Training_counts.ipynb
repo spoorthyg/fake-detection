{
  "nbformat": 4,
  "nbformat_minor": 0,
  "metadata": {
    "colab": {
      "provenance": []
    },
    "kernelspec": {
      "name": "python3",
      "display_name": "Python 3"
    },
    "language_info": {
      "name": "python"
    }
  },
  "cells": [
    {
      "cell_type": "code",
      "execution_count": 15,
      "metadata": {
        "id": "pcnDA2iLsZ97"
      },
      "outputs": [],
      "source": [
        "import pandas as pd\n",
        "import numpy as np\n",
        "import logging\n",
        "import re\n",
        "import pickle\n",
        "\n",
        "from sklearn.preprocessing import LabelEncoder\n",
        "from sklearn.feature_extraction.text import CountVectorizer,TfidfVectorizer\n",
        "from sklearn.model_selection import train_test_split\n",
        "from sklearn.metrics import classification_report, confusion_matrix, f1_score, accuracy_score\n",
        "from sklearn.linear_model import  LogisticRegression\n",
        "from xgboost import XGBClassifier\n",
        "from sklearn import svm\n",
        "from sklearn.naive_bayes import BernoulliNB\n",
        "from cleaning import process_text\n",
        "\n",
        "logging.basicConfig(format='%(asctime)s : %(levelname)s : %(message)s', level=logging.INFO)\n",
        "\n"
      ]
    },
    {
      "cell_type": "code",
      "source": [
        "# Extracting Features for all models\n",
        "def extract_features(field,training_data,testing_data,type):\n",
        "    \"\"\"\n",
        "    Extract features using different methods\n",
        "    Args: \n",
        "        field (string): statement column    \n",
        "        training_data (pandas.core.frame.DataFrame): training data\n",
        "        testing_data (pandas.core.frame.DataFrame): test data\n",
        "        type (string): feature type\n",
        "    Returns:\n",
        "        train & test features and feature transformer\n",
        "    \"\"\"\n",
        "    logging.info(\"Extracting features and creating vocabulary...\")\n",
        "    if \"counts\" in type:\n",
        "        \n",
        "        # COUNT BASED FEATURE REPRESENTATION\n",
        "        cv= CountVectorizer(binary=False, max_df=0.95, analyzer=process_text)\n",
        "        cv.fit_transform(training_data.values)\n",
        "        train_feature_set=cv.transform(training_data.values)\n",
        "        test_feature_set=cv.transform(testing_data.values)\n",
        "        \n",
        "        return train_feature_set,test_feature_set,cv"
      ],
      "metadata": {
        "id": "R9dcGtKBsmzc"
      },
      "execution_count": 16,
      "outputs": []
    },
    {
      "cell_type": "code",
      "source": [
        "# Training model for all methods\n",
        "def train_model_LogR_clf(classifier, train_val, field,feature_rep,name):\n",
        "    \"\"\"\n",
        "    Training the classifier for the provided features.\n",
        "    Args: \n",
        "        classifier (sklearn.linear_model): statement column  \n",
        "        train_val (pandas.core.frame.DataFrame): training data\n",
        "        field (string): test data\n",
        "        feature_rep (string): feature type\n",
        "    Returns:\n",
        "        model, feature transformer and f1-score\n",
        "    \"\"\"\n",
        "    logging.info(\"Starting model training...\")   \n",
        "    # GET A TRAIN TEST SPLIT (set seed for consistent results)\n",
        "    training_data, testing_data = train_test_split(train_val,random_state = 2000,)\n",
        "    # features\n",
        "    X_train=training_data['statement']\n",
        "    X_test=testing_data['statement']\n",
        "    # GET LABELS\n",
        "    Y_train=training_data['label'].values\n",
        "    Y_test=testing_data['label'].values\n",
        "    # GET FEATURES\n",
        "    train_features,test_features,feature_transformer=extract_features(field,X_train,X_test,type=feature_rep)\n",
        "    logging.info(\"Training a Classification Model...\")\n",
        "    model=classifier.fit(train_features,Y_train)\n",
        "    # GET PREDICTIONS\n",
        "    predictions = model.predict(test_features)\n",
        "    # GET EVALUATION NUMBERS ON TEST SET -- HOW DID WE DO?\n",
        "\n",
        "    logging.info(\"Starting evaluation...\")\n",
        "    accuracy_LogR_clf = accuracy_score(Y_test,predictions)\n",
        "    print(\"The acurracy score of method \",name,\"with Count BASED FEATURE REPRESENTATION is:\",accuracy_LogR_clf)\n",
        "    score_LogR_clf = f1_score(Y_test,predictions)\n",
        "    print(\"The F1 score of method \",name,\"with Count BASED FEATURE REPRESENTATION is:\",score_LogR_clf )\n",
        "    print(classification_report(Y_test,predictions))\n",
        "    print(\"Confusion Matrix of\",name,\"with Count BASED FEATURE REPRESENTATION is:\")\n",
        "    print(confusion_matrix(Y_test,predictions))\n",
        "    logging.info(\"Done training and evaluation.\")\n",
        "    \n",
        "    return model,feature_transformer,score_LogR_clf,accuracy_LogR_clf\n"
      ],
      "metadata": {
        "id": "sZdCJSavCo7f"
      },
      "execution_count": 20,
      "outputs": []
    },
    {
      "cell_type": "code",
      "source": [
        "# Training model for all methods\n",
        "def train_model_XGBoost_clf(classifier, train_val, field,feature_rep,name):\n",
        "    \"\"\"\n",
        "    Training the classifier for the provided features.\n",
        "    Args: \n",
        "        classifier (sklearn.linear_model): statement column  \n",
        "        train_val (pandas.core.frame.DataFrame): training data\n",
        "        field (string): test data\n",
        "        feature_rep (string): feature type\n",
        "    Returns:\n",
        "        model, feature transformer and f1-score\n",
        "    \"\"\"\n",
        "    logging.info(\"Starting model training...\")   \n",
        "    # GET A TRAIN TEST SPLIT (set seed for consistent results)\n",
        "    training_data, testing_data = train_test_split(train_val,random_state = 2000,)\n",
        "    # features\n",
        "    X_train=training_data['statement']\n",
        "    X_test=testing_data['statement']\n",
        "    # GET LABELS\n",
        "    Y_train=training_data['label'].values\n",
        "    Y_test=testing_data['label'].values\n",
        "    # GET FEATURES\n",
        "    train_features,test_features,feature_transformer=extract_features(field,X_train,X_test,type=feature_rep)\n",
        "    logging.info(\"Training a Classification Model...\")\n",
        "    model=classifier.fit(train_features,Y_train)\n",
        "    # GET PREDICTIONS\n",
        "    predictions = model.predict(test_features)\n",
        "    # GET EVALUATION NUMBERS ON TEST SET -- HOW DID WE DO?\n",
        "    logging.info(\"Starting evaluation...\")\n",
        "    accuracy_XGBoost_clf = accuracy_score(Y_test,predictions)\n",
        "    print(\"The acurracy score of method \",name,\"with Count BASED FEATURE REPRESENTATION is:\",accuracy_XGBoost_clf)\n",
        "    score_XGBoost_clf = f1_score(Y_test,predictions)\n",
        "    print(\"The F1 score of method \",name,\"with Count BASED FEATURE REPRESENTATION is:\",score_XGBoost_clf)\n",
        "    print(classification_report(Y_test,predictions))\n",
        "    print(\"Confusion Matrix of\",name,\"with Count BASED FEATURE REPRESENTATION is:\")\n",
        "    print(confusion_matrix(Y_test,predictions))\n",
        "    logging.info(\"Done training and evaluation.\")\n",
        "    \n",
        "    return model,feature_transformer,score_XGBoost_clf,accuracy_XGBoost_clf\n"
      ],
      "metadata": {
        "id": "4szDldkfCpEM"
      },
      "execution_count": 21,
      "outputs": []
    },
    {
      "cell_type": "code",
      "source": [
        "# Training model for all methods\n",
        "def train_model_svm(classifier, train_val, field,feature_rep,name):\n",
        "    \"\"\"\n",
        "    Training the classifier for the provided features.\n",
        "    Args: \n",
        "        classifier (sklearn.linear_model): statement column  \n",
        "        train_val (pandas.core.frame.DataFrame): training data\n",
        "        field (string): test data\n",
        "        feature_rep (string): feature type\n",
        "    Returns:\n",
        "        model, feature transformer and f1-score\n",
        "    \"\"\"\n",
        "    logging.info(\"Starting model training...\")   \n",
        "    # GET A TRAIN TEST SPLIT (set seed for consistent results)\n",
        "    training_data, testing_data = train_test_split(train_val,random_state = 2000,)\n",
        "    # features\n",
        "    X_train=training_data['statement']\n",
        "    X_test=testing_data['statement']\n",
        "    # GET LABELS\n",
        "    Y_train=training_data['label'].values\n",
        "    Y_test=testing_data['label'].values\n",
        "    # GET FEATURES\n",
        "    train_features,test_features,feature_transformer=extract_features(field,X_train,X_test,type=feature_rep)\n",
        "    logging.info(\"Training a Classification Model...\")\n",
        "    model=classifier.fit(train_features,Y_train)\n",
        "    # GET PREDICTIONS\n",
        "    predictions = model.predict(test_features)\n",
        "    # GET EVALUATION NUMBERS ON TEST SET -- HOW DID WE DO?\n",
        "    logging.info(\"Starting evaluation...\")\n",
        "    accuracy_svm = accuracy_score(Y_test,predictions)\n",
        "    print(\"The acurracy score of method \",name,\"with Count BASED FEATURE REPRESENTATION is:\",accuracy_svm)\n",
        "    score_svm = f1_score(Y_test,predictions)\n",
        "    print(\"The F1 score of method \",name,\"with Count BASED FEATURE REPRESENTATION is:\",score_svm)\n",
        "    print(classification_report(Y_test,predictions))\n",
        "    print(\"Confusion Matrix of\",name,\"with Count BASED FEATURE REPRESENTATION is:\")\n",
        "    print(confusion_matrix(Y_test,predictions))\n",
        "    logging.info(\"Done training and evaluation.\")\n",
        "    \n",
        "    return model,feature_transformer,score_svm,accuracy_svm\n"
      ],
      "metadata": {
        "id": "BckUq_0qC2qC"
      },
      "execution_count": 22,
      "outputs": []
    },
    {
      "cell_type": "code",
      "source": [
        "import nltk\n",
        "nltk.download('stopwords')\n",
        "  \n"
      ],
      "metadata": {
        "colab": {
          "base_uri": "https://localhost:8080/"
        },
        "id": "m2XzCn_WuliY",
        "outputId": "24e58057-8155-4ce0-8fd1-d6c602102bf2"
      },
      "execution_count": 24,
      "outputs": [
        {
          "output_type": "stream",
          "name": "stderr",
          "text": [
            "[nltk_data] Downloading package stopwords to /root/nltk_data...\n",
            "[nltk_data]   Package stopwords is already up-to-date!\n"
          ]
        },
        {
          "output_type": "execute_result",
          "data": {
            "text/plain": [
              "True"
            ]
          },
          "metadata": {},
          "execution_count": 24
        }
      ]
    },
    {
      "cell_type": "code",
      "source": [
        " #Merging the training and validation data together to train the model\n",
        "labelEncoder = LabelEncoder()\n",
        "frames = [train_news, val_news]\n",
        "train_val = pd.concat(frames)\n",
        "train_val['label'].value_counts()\n",
        "train_val['label'] = labelEncoder.fit_transform(train_val['label'])\n",
        "\n",
        "     #Logistic Regression training model\n",
        "field='statement'\n",
        "LogR_clf = LogisticRegression(verbose=1, solver='liblinear',random_state=0, C=5, penalty='l2',max_iter=1000)\n",
        "lr_model,transform,score_LogR_clf,accuracy_LogR_clf = train_model_LogR_clf(LogR_clf,train_val,field=\"statement\",feature_rep='counts',name='LOGICAL REGRESSION')\n",
        "     \n",
        "    \n",
        "    "
      ],
      "metadata": {
        "colab": {
          "base_uri": "https://localhost:8080/"
        },
        "id": "1t3HaNReDPIg",
        "outputId": "6ef7621c-ddba-4377-ebd5-f43c3773ba9c"
      },
      "execution_count": 25,
      "outputs": [
        {
          "output_type": "stream",
          "name": "stdout",
          "text": [
            "[LibLinear]The acurracy score of method  LOGICAL REGRESSION with Count BASED FEATURE REPRESENTATION is: 0.5732638888888889\n",
            "The F1 score of method  LOGICAL REGRESSION with Count BASED FEATURE REPRESENTATION is: 0.6231217417969948\n",
            "              precision    recall  f1-score   support\n",
            "\n",
            "           0       0.51      0.51      0.51      1248\n",
            "           1       0.62      0.62      0.62      1632\n",
            "\n",
            "    accuracy                           0.57      2880\n",
            "   macro avg       0.57      0.57      0.57      2880\n",
            "weighted avg       0.57      0.57      0.57      2880\n",
            "\n",
            "Confusion Matrix of LOGICAL REGRESSION with Count BASED FEATURE REPRESENTATION is:\n",
            "[[ 635  613]\n",
            " [ 616 1016]]\n"
          ]
        }
      ]
    },
    {
      "cell_type": "code",
      "source": [
        " #Merging the training and validation data together to train the model\n",
        "labelEncoder = LabelEncoder()\n",
        "frames = [train_news, val_news]\n",
        "train_val = pd.concat(frames)\n",
        "train_val['label'].value_counts()\n",
        "train_val['label'] = labelEncoder.fit_transform(train_val['label'])\n",
        "\n",
        "# XGBoost training model\n",
        "field='statement'\n",
        "XGBoost_clf = XGBClassifier(max_depth=15, learning_rate=0.3, n_estimators=150)\n",
        "XGBoost_model,transform,score_XGBoost_clf,accuracy_XGBoost_clf = train_model_XGBoost_clf(XGBoost_clf,train_val,field=\"statement\",feature_rep='counts',name='XGBoost')\n"
      ],
      "metadata": {
        "colab": {
          "base_uri": "https://localhost:8080/"
        },
        "id": "pv4PopxtDPTm",
        "outputId": "61f2e93d-3df8-41a5-9371-f9847bb4d2d2"
      },
      "execution_count": 26,
      "outputs": [
        {
          "output_type": "stream",
          "name": "stdout",
          "text": [
            "The acurracy score of method  XGBoost with Count BASED FEATURE REPRESENTATION is: 0.5996527777777778\n",
            "The F1 score of method  XGBoost with Count BASED FEATURE REPRESENTATION is: 0.65551239916343\n",
            "              precision    recall  f1-score   support\n",
            "\n",
            "           0       0.54      0.50      0.52      1248\n",
            "           1       0.64      0.67      0.66      1632\n",
            "\n",
            "    accuracy                           0.60      2880\n",
            "   macro avg       0.59      0.59      0.59      2880\n",
            "weighted avg       0.60      0.60      0.60      2880\n",
            "\n",
            "Confusion Matrix of XGBoost with Count BASED FEATURE REPRESENTATION is:\n",
            "[[ 630  618]\n",
            " [ 535 1097]]\n"
          ]
        }
      ]
    },
    {
      "cell_type": "code",
      "source": [
        " #Merging the training and validation data together to train the model\n",
        "labelEncoder = LabelEncoder()\n",
        "frames = [train_news, val_news]\n",
        "train_val = pd.concat(frames)\n",
        "train_val['label'].value_counts()\n",
        "train_val['label'] = labelEncoder.fit_transform(train_val['label'])\n",
        "\n",
        "#SVM training model\n",
        "field='statement'\n",
        "svm_clf = svm.SVC(kernel='linear')\n",
        "svm_model,transform,score_svm,accuracy_svm  = train_model_svm(svm_clf,train_val,field=\"statement\",feature_rep='counts',name='SVM')"
      ],
      "metadata": {
        "colab": {
          "base_uri": "https://localhost:8080/"
        },
        "id": "mz-McCs8DPZg",
        "outputId": "4e3ebe4b-b62a-4767-de22-3bf9b6fa09d9"
      },
      "execution_count": 27,
      "outputs": [
        {
          "output_type": "stream",
          "name": "stdout",
          "text": [
            "The acurracy score of method  SVM with Count BASED FEATURE REPRESENTATION is: 0.5774305555555556\n",
            "The F1 score of method  SVM with Count BASED FEATURE REPRESENTATION is: 0.6288502592253736\n",
            "              precision    recall  f1-score   support\n",
            "\n",
            "           0       0.51      0.51      0.51      1248\n",
            "           1       0.63      0.63      0.63      1632\n",
            "\n",
            "    accuracy                           0.58      2880\n",
            "   macro avg       0.57      0.57      0.57      2880\n",
            "weighted avg       0.58      0.58      0.58      2880\n",
            "\n",
            "Confusion Matrix of SVM with Count BASED FEATURE REPRESENTATION is:\n",
            "[[ 632  616]\n",
            " [ 601 1031]]\n"
          ]
        }
      ]
    },
    {
      "cell_type": "code",
      "source": [
        "import matplotlib.pyplot as plt\n",
        "\n",
        "# Example accuracy scores\n",
        "accuracy_scores = [accuracy_LogR_clf, accuracy_XGBoost_clf, accuracy_svm]\n",
        "\n",
        "# Model names\n",
        "model_names = ['Logistic Regression', 'XGBoost', 'SVM']\n",
        "\n",
        "colors = ['green', 'blue', 'red'] # list of colors for each bar\n",
        "\n",
        "# Set up the bar chart\n",
        "fig, ax = plt.subplots(figsize=(8, 6))\n",
        "# Add the bars to the plot\n",
        "for i in range(len(model_names)):\n",
        "    ax.bar(model_names[i], accuracy_scores[i], color=colors[i])\n",
        "\n",
        "    # Add the accuracy score as text to the bar\n",
        "    ax.text(model_names[i], accuracy_scores[i] + 0.01, round(accuracy_scores[i], 2), ha='center')\n",
        "\n",
        "# Add labels and titles\n",
        "ax.set_xlabel('Model')\n",
        "ax.set_ylabel('Accuracy Score')\n",
        "ax.set_title('Comparison of Model Accuracy Scores for Count Feature Selection')\n",
        "\n",
        "# Display the chart\n",
        "plt.show()\n"
      ],
      "metadata": {
        "colab": {
          "base_uri": "https://localhost:8080/",
          "height": 564
        },
        "id": "SaeDVwrWEEO1",
        "outputId": "5a013f1e-4a4c-4cfd-91d8-b80f268abcb1"
      },
      "execution_count": 30,
      "outputs": [
        {
          "output_type": "display_data",
          "data": {
            "text/plain": [
              "<Figure size 800x600 with 1 Axes>"
            ],
            "image/png": "[encoded data removed]"
          },
          "metadata": {}
        }
      ]
    },
    {
      "cell_type": "code",
      "source": [
        "import matplotlib.pyplot as plt\n",
        "\n",
        "# define model names and their respective F1 scores\n",
        "model_names = ['Logistic Regression', 'XGBoost', 'SVM']\n",
        "f1_scores = [score_LogR_clf, score_XGBoost_clf, score_svm]\n",
        "colors = ['green', 'blue', 'red'] # list of colors for each bar\n",
        "# Set up the bar chart\n",
        "fig, ax = plt.subplots(figsize=(8, 6))\n",
        "# Add the bars to the plot\n",
        "for i in range(len(model_names)):\n",
        "    ax.bar(model_names[i], f1_scores[i], color=colors[i])\n",
        "\n",
        "    # Add the accuracy score as text to the bar\n",
        "    ax.text(model_names[i], f1_scores[i] + 0.01, round(f1_scores[i], 2), ha='center')\n",
        "\n",
        "\n",
        "# add labels to the chart\n",
        "plt.title('Comparison of Model F1 Scores for Count Feature Selection')\n",
        "plt.xlabel('Models')\n",
        "plt.ylabel('F1 Scores')\n",
        "\n",
        "# display the chart\n",
        "plt.show()\n"
      ],
      "metadata": {
        "colab": {
          "base_uri": "https://localhost:8080/",
          "height": 564
        },
        "id": "1eC7IWE_EEZQ",
        "outputId": "84f5fbcf-633b-443a-ae7f-79ae2af5ae3b"
      },
      "execution_count": 31,
      "outputs": [
        {
          "output_type": "display_data",
          "data": {
            "text/plain": [
              "<Figure size 800x600 with 1 Axes>"
            ],
            "image/png": "[encoded data removed]"
          },
          "metadata": {}
        }
      ]
    }
  ]
}